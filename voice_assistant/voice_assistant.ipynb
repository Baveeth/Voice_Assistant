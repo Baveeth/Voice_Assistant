{
 "cells": [
  {
   "cell_type": "code",
   "execution_count": 1,
   "id": "4554687b",
   "metadata": {},
   "outputs": [],
   "source": [
    "import speech_recognition as sr\n",
    "import pyttsx3\n",
    "import pywhatkit\n",
    "import datetime\n",
    "import wikipedia\n",
    "import pyjokes"
   ]
  },
  {
   "cell_type": "code",
   "execution_count": 7,
   "id": "a8560e93",
   "metadata": {},
   "outputs": [
    {
     "name": "stdout",
     "output_type": "stream",
     "text": [
      "Listening...\n",
      " who is land messi\n",
      "Messi (Russian: Месси; born 30 October 2015) is a pet cougar, model and Internet celebrity, owned by Russian couple Alexandr and Mariya Dmitriev.\n"
     ]
    }
   ],
   "source": [
    "listener = sr.Recognizer()\n",
    "engine = pyttsx3.init()\n",
    "voices = engine.getProperty('voices')\n",
    "engine.setProperty('voice', voices[1].id)\n",
    "\n",
    "def talk(text):\n",
    "    engine.say(text)\n",
    "    engine.runAndWait()\n",
    "\n",
    "def take_command(): \n",
    "    try:\n",
    "       with sr.Microphone() as source:\n",
    "           listener.adjust_for_ambient_noise(source)\n",
    "           print(\"Listening...\")\n",
    "           voice= listener.listen(source)\n",
    "           command=listener.recognize_google(voice)\n",
    "           command = command.lower()\n",
    "           if 'siri' in command:\n",
    "            command = command.replace('siri','') \n",
    "    except sr.UnknownValueError:\n",
    "           print(\"unknown error occured\")\n",
    "    except sr.RequestError as e:\n",
    "           print(\"Could not request results; {0}\".format(e))\n",
    "\n",
    "    return command \n",
    "\n",
    "def run_va():\n",
    "    command = take_command()\n",
    "    print(command)\n",
    "    if 'play' in command:\n",
    "        song = command.replace('play', '')\n",
    "        talk('playing' + song)\n",
    "        print('playing' + song)\n",
    "        pywhatkit.playonyt(song)\n",
    "    elif 'time' in command:\n",
    "        time = datetime.datetime.now().strftime('%I:%M')\n",
    "        talk('current time is'+ time)\n",
    "    elif 'date' in command:\n",
    "        date = datetime.date.today()\n",
    "        talk(date)\n",
    "    elif 'who is' in command:\n",
    "        try:\n",
    "            person = command.replace('who is', '')\n",
    "            info = wikipedia.summary(command,1)\n",
    "            print(info)\n",
    "            talk(info)\n",
    "        except:\n",
    "            print(\"Sorry, couldnt find any result, please try again\")\n",
    "    elif 'define' in command:\n",
    "        details = command.replace('define', '')\n",
    "        details = wikipedia.summary(details,1)\n",
    "        print(details)\n",
    "        talk(details)\n",
    "    else:\n",
    "        talk(\"please say the command again\")\n",
    "    \n",
    "run_va()\n"
   ]
  },
  {
   "cell_type": "markdown",
   "id": "6113036f",
   "metadata": {},
   "source": []
  }
 ],
 "metadata": {
  "kernelspec": {
   "display_name": "Python 3 (ipykernel)",
   "language": "python",
   "name": "python3"
  },
  "language_info": {
   "codemirror_mode": {
    "name": "ipython",
    "version": 3
   },
   "file_extension": ".py",
   "mimetype": "text/x-python",
   "name": "python",
   "nbconvert_exporter": "python",
   "pygments_lexer": "ipython3",
   "version": "3.9.12"
  },
  "vscode": {
   "interpreter": {
    "hash": "26de051ba29f2982a8de78e945f0abaf191376122a1563185a90213a26c5da77"
   }
  }
 },
 "nbformat": 4,
 "nbformat_minor": 5
}
